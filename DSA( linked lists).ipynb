{
 "cells": [
  {
   "cell_type": "markdown",
   "id": "d4bc42f5",
   "metadata": {},
   "source": [
    "# DSA using Python\n"
   ]
  },
  {
   "cell_type": "markdown",
   "id": "c89d5a30",
   "metadata": {},
   "source": [
    "# Linked List\n"
   ]
  },
  {
   "cell_type": "code",
   "execution_count": 28,
   "id": "4b31d21f",
   "metadata": {},
   "outputs": [
    {
     "name": "stdout",
     "output_type": "stream",
     "text": [
      "TSP-->VSM-->SMN-->PNR-->\n",
      "4\n",
      "TSP-->VSM-->PNR-->\n",
      "3\n"
     ]
    }
   ],
   "source": [
    "class node:\n",
    "    def __init__(self,data=None,next=None):\n",
    "        self.data=data\n",
    "        self.next=next\n",
    "    \n",
    "class linked_list:\n",
    "    def __init__(self):\n",
    "        self.head=None\n",
    "        \n",
    "    def insert_val(self,data_list):\n",
    "        self.head=None\n",
    "        for i in data_list:\n",
    "            self.ins_at_end(i)\n",
    "            \n",
    "        \n",
    "    def ins_at_begin(self,data):\n",
    "        nod= node(data,self.head)\n",
    "        self.head=nod\n",
    "        \n",
    "    def print(self):\n",
    "        if self.head is None :\n",
    "            print(\"Linked List is empty\")\n",
    "            return\n",
    "        itr=self.head\n",
    "        llstr=''\n",
    "        while(itr):\n",
    "            llstr+=str(itr.data) + '-->'\n",
    "            itr=itr.next\n",
    "        print(llstr)\n",
    "        \n",
    "    def ins_at_end(self,data):\n",
    "        if self.head is None:\n",
    "            self.head=node(data,None)\n",
    "            return\n",
    "        itr=self.head\n",
    "        while itr.next:\n",
    "            itr=itr.next\n",
    "        \n",
    "        itr.next= node(data,None)\n",
    "        \n",
    "    #length of the Linked Lisr\n",
    "\n",
    "    def length(self):\n",
    "        count=0\n",
    "        itr=self.head\n",
    "        while itr:\n",
    "            count+=1\n",
    "            itr=itr.next\n",
    "        return count\n",
    "    \n",
    "    \n",
    "    #remove element based on index from the linked list\n",
    "    def rem_at_index(self,index):\n",
    "        if index < 0 or index > self.length():\n",
    "            raise Exception(\"Invalid Index\")\n",
    "\n",
    "        if index==0:\n",
    "            self.head=self.head.next\n",
    "            return\n",
    "\n",
    "        count=0\n",
    "\n",
    "        itr=self.head\n",
    "\n",
    "        while itr:\n",
    "            if count == index-1 :  #checks for prev index of deleting node\n",
    "                itr.next=itr.next.next   #if pos=2 ,index=1 node.next=index=2.next  i.e; node is removed automatically(garbage)\n",
    "                break\n",
    "            itr=itr.next\n",
    "            count+=1\n",
    "        \n",
    "        \n",
    "    \n",
    "ll=linked_list()\n",
    "# ll.ins_at_begin(33)\n",
    "# ll.ins_at_begin(135)\n",
    "# ll.ins_at_begin(246)\n",
    "# ll.ins_at_end(200)\n",
    "# ll.ins_at_end(2000)\n",
    "ll.insert_val([\"TSP\",\"VSM\",'SMN',\"PNR\"])\n",
    "ll.print()\n",
    "print(ll.length())\n",
    "\n",
    "ll.rem_at_index(2)  #removed node at index 2 \n",
    "ll.print()\n",
    "print(ll.length())"
   ]
  },
  {
   "cell_type": "code",
   "execution_count": null,
   "id": "dc30eae4",
   "metadata": {},
   "outputs": [],
   "source": []
  }
 ],
 "metadata": {
  "kernelspec": {
   "display_name": "Python 3 (ipykernel)",
   "language": "python",
   "name": "python3"
  },
  "language_info": {
   "codemirror_mode": {
    "name": "ipython",
    "version": 3
   },
   "file_extension": ".py",
   "mimetype": "text/x-python",
   "name": "python",
   "nbconvert_exporter": "python",
   "pygments_lexer": "ipython3",
   "version": "3.11.4"
  }
 },
 "nbformat": 4,
 "nbformat_minor": 5
}
